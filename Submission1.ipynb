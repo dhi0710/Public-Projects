{
 "cells": [
  {
   "cell_type": "markdown",
   "metadata": {},
   "source": [
    "My Jupyter Notebook Online because of Error Creating Account on IBM Watson Studio"
   ]
  },
  {
   "cell_type": "markdown",
   "metadata": {},
   "source": [
    "**Putik Dhiraramanti** <br>\n",
    "Product Manager"
   ]
  },
  {
   "cell_type": "markdown",
   "metadata": {},
   "source": [
    "*I am interested in data science because it is supporting my day-to-day analysis on our process of gathering ideas for product improvement.*"
   ]
  },
  {
   "cell_type": "markdown",
   "metadata": {},
   "source": [
    "### \"a\" is a list of numbers, and the output shows the sum of all the numbers on the \"a\" list"
   ]
  },
  {
   "cell_type": "code",
   "execution_count": 18,
   "metadata": {},
   "outputs": [
    {
     "data": {
      "text/plain": [
       "55"
      ]
     },
     "execution_count": 18,
     "metadata": {},
     "output_type": "execute_result"
    }
   ],
   "source": [
    "a = [1,2,3,4,5,6,7,8,9,10]\n",
    "sum(a)"
   ]
  },
  {
   "cell_type": "markdown",
   "metadata": {},
   "source": [
    "Bulleted List\n",
    "* Week 1\n",
    "* Week 2\n",
    "* Week 3\n",
    "* Week 4\n",
    "\n",
    "Numbered List\n",
    "1. Week 1\n",
    "2. Week 2\n",
    "3. Week 3\n",
    "4. Week 4\n",
    "\n",
    "Tables <br>\n",
    "\n",
    "| Date | Item | Units Sold |\n",
    "| --- | --- | ---|\n",
    "| 11-11-20      | Apple          |   100       |\n",
    "| 12-11-20      | Oranges        |   200       |\n",
    "| 13-11-20      | Pineapple      |   200       |\n",
    "\n",
    "Code Highlight\n",
    "```css\n",
    "#button {\n",
    "    border: none;\n",
    "}\n",
    "```\n",
    "\n"
   ]
  },
  {
   "cell_type": "code",
   "execution_count": null,
   "metadata": {},
   "outputs": [],
   "source": []
  }
 ],
 "metadata": {
  "kernelspec": {
   "display_name": "Python 3",
   "language": "python",
   "name": "python3"
  },
  "language_info": {
   "codemirror_mode": {
    "name": "ipython",
    "version": 3
   },
   "file_extension": ".py",
   "mimetype": "text/x-python",
   "name": "python",
   "nbconvert_exporter": "python",
   "pygments_lexer": "ipython3",
   "version": "3.8.5"
  }
 },
 "nbformat": 4,
 "nbformat_minor": 4
}
